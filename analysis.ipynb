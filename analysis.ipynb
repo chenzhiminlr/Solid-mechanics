{
 "cells": [
  {
   "cell_type": "markdown",
   "metadata": {},
   "source": [
    "### Start processing predicted and simulated stress-strain curves"
   ]
  },
  {
   "cell_type": "markdown",
   "metadata": {},
   "source": [
    "#### Calculate predicted and simulated strength"
   ]
  },
  {
   "cell_type": "code",
   "execution_count": null,
   "metadata": {
    "metadata": {}
   },
   "outputs": [],
   "source": [
    "import numpy as np\n",
    "import pandas as pd\n",
    "import os\n",
    "\n",
    "os.chdir('your_path_to_data') # change to your path to data\n",
    "system=['SiO2','SiO2_C'] # the systems to be analyzed, can be extended to other more systems\n",
    "\n",
    "voro_sys={} # store the voronoi volume data\n",
    "ss={} # store the stress-strain data\n",
    "\n",
    "n_data_for_prediction=6 # number of data for prediction\n",
    "\n",
    "for sys in range(len(system)):\n",
    "    ss[sys] = []\n",
    "    voro_sys[sys] = []\n",
    "    for i in range(n_data_for_prediction):\n",
    "        voro = pd.read_csv('{}/voro_sio2_{}.csv'.format(system[sys],i), delimiter=',',header=None)\n",
    "        ss_sio2 = pd.read_csv('{}/{}/loading/Re_Primary_Fracture.txt'.format(system[sys],i), sep=' ', header=None)\n",
    "        ss[sys].append(ss_sio2)\n",
    "        if system[sys]=='SiO2':\n",
    "            type = 1 # Si, find well defined atoms for different systems\n",
    "            v_sio2 = np.nanmean(voro[voro[0]==type].iloc[:,2:][voro[voro[0]==type].iloc[:,2:]<30],axis=0)\n",
    "            voro_sys[sys].append(v_sio2)\n",
    "        elif system[sys]=='SiO2_C':\n",
    "            type = 1 # Si, find well defined atoms for different systems\n",
    "            v_sio2 = np.nanmean(voro[voro[0]==type].iloc[:,2:][voro[voro[0]==type].iloc[:,2:]<30],axis=0)\n",
    "            voro_sys[sys].append(v_sio2)\n",
    "\n",
    "theory={} # store the predicted data\n",
    "sigma={} # store the simulated data\n",
    "\n",
    "k_sio2=7.9527523831363345 # volume constancy energy, taking SiO2 as an example. Can be calculated from linear regression for other systems\n",
    "\n",
    "for j in range(len(system)):\n",
    "    theory[j]=[]\n",
    "    sigma[j]=[]\n",
    "    theory_sio2_g=[]\n",
    "    theory_sio2_c=[]\n",
    "    sigma_sio2_g=[]\n",
    "    sigma_sio2_c=[]\n",
    "    for i in range(len(voro_sys[0])):\n",
    "        if system[j]=='SiO2':\n",
    "            theory_sio2_g.append((k_sio2/voro_sys[j][i][0]-k_sio2/voro_sys[j][i].max())*1.60217662*100)\n",
    "            sigma_sio2_g.append(np.float64(ss[j][i].iloc[2:,5]).max())\n",
    "        elif system[j]=='SiO2_C':\n",
    "            theory_sio2_c.append((k_sio2/voro_sys[j][i][0]-k_sio2/voro_sys[j][i].max())*1.60217662*100)\n",
    "            sigma_sio2_c.append(np.float64(ss[j][i].iloc[2:,5]).max())\n",
    "    if system[j]=='SiO2':\n",
    "        theory[j].append(theory_sio2_g)\n",
    "        sigma[j].append(sigma_sio2_g)\n",
    "    elif system[j]=='SiO2_C':\n",
    "        theory[j].append(theory_sio2_c)\n",
    "        sigma[j].append(sigma_sio2_c)"
   ]
  },
  {
   "cell_type": "markdown",
   "metadata": {},
   "source": [
    "### Store data to pickle file"
   ]
  },
  {
   "cell_type": "code",
   "execution_count": 2,
   "metadata": {},
   "outputs": [],
   "source": [
    "import pickle5 as pickle\n",
    "\n",
    "with open('sigma_strength.pkl','wb') as f:\n",
    "    pickle.dump(sigma,f)\n",
    "with open('theory_strength.pkl','wb') as f:\n",
    "    pickle.dump(theory,f)"
   ]
  },
  {
   "cell_type": "markdown",
   "metadata": {},
   "source": [
    "#### Calculate predicted and simulated modulus of toughness, i.e., the area under stress-strain curve"
   ]
  },
  {
   "cell_type": "code",
   "execution_count": null,
   "metadata": {},
   "outputs": [],
   "source": [
    "import numpy as np\n",
    "import pandas as pd\n",
    "import matplotlib.pyplot as plt\n",
    "import os\n",
    "\n",
    "os.chdir('your_path_to_data') # change to your path to data\n",
    "system=['SiO2','SiO2_C'] # the systems to be analyzed, can be extended to other more systems\n",
    "voro_sys={} # store the voronoi volume data\n",
    "ss={} # store the stress-strain data\n",
    "\n",
    "n_data_for_prediction=6 # number of data for prediction\n",
    "\n",
    "for sys in range(len(system)):\n",
    "    ss[sys] = []\n",
    "    voro_sys[sys] = []\n",
    "    for i in range(n_data_for_prediction):\n",
    "        voro = pd.read_csv('{}/voro_sio2_{}.csv'.format(system[sys],i), delimiter=',',header=None)\n",
    "        ss_sio2 = pd.read_csv('{}/{}/loading/Re_Primary_Fracture.txt'.format(system[sys],i), sep=' ', header=None)\n",
    "        ss[sys].append(ss_sio2)\n",
    "        if system[sys]=='SiO2':\n",
    "            type = 1\n",
    "            v_sio2 = np.nanmean(voro[voro[0]==type].iloc[:,2:][voro[voro[0]==type].iloc[:,2:]<30],axis=0)\n",
    "            voro_sys[sys].append(v_sio2)\n",
    "        elif system[sys]=='SiO2_C':\n",
    "            type = 1\n",
    "            v_sio2 = np.nanmean(voro[voro[0]==type].iloc[:,2:][voro[voro[0]==type].iloc[:,2:]<30],axis=0)\n",
    "            voro_sys[sys].append(v_sio2)\n",
    "\n",
    "k_sio2=7.9527523831363345 # volume constancy energy\n",
    "strain = np.arange(0,1.001,0.01) # strain data\n",
    "\n",
    "theory_toughness={} # store the predicted toughness data\n",
    "sigma_toughness={} # store the simulated toughness data\n",
    "ss_voro={}\n",
    "for j in range(len(system)):\n",
    "    theory[j]=[]\n",
    "    sigma[j]=[]\n",
    "    theory_sio2_g=[]\n",
    "    theory_sio2_c=[]\n",
    "    sigma_sio2_g=[]\n",
    "    sigma_sio2_c=[]\n",
    "    ss_voro[j]=[]\n",
    "    for i in range(len(voro_sys[0])):\n",
    "        if system[j]=='SiO2':\n",
    "            v=np.array((k_sio2/voro_sys[j][i][0]-k_sio2/voro_sys[j][i])*1.60217662*100)\n",
    "            ss_voro[j].append(v)\n",
    "            index_of_fracture = defined_index # Consider only the area from the beginning of the stress-strain curve to the time of complete fracture\n",
    "            theory_sio2_g.append(np.trapz(v[:index_of_fracture + 1],strain[:index_of_fracture + 1]))\n",
    "            data = np.float64(ss[j][i].iloc[2:,5]) # simulated stress data\n",
    "            x = np.float64(ss[j][i].iloc[2:,4]) # simulated strain data\n",
    "            negative_index = np.where(data[10:] < 0)[0][0] + 10 # find the index of the first negative stress, which is the time of complete fracture\n",
    "            sigma_sio2_g.append(np.trapz(data[:negative_index + 1],x[:negative_index + 1]))\n",
    "        elif system[j]=='SiO2_C':\n",
    "            v=np.array((k_sio2/voro_sys[j][i][0]-k_sio2/voro_sys[j][i])*1.60217662*100)\n",
    "            ss_voro[j].append(v)\n",
    "            index_of_fracture = defined_index # Find by different solid systems\n",
    "            theory_sio2_c.append(np.trapz(v[:index_of_fracture + 1],strain[:index_of_fracture + 1]))\n",
    "            data = np.float64(ss[j][i].iloc[2:,5])\n",
    "            x = np.float64(ss[j][i].iloc[2:,4])\n",
    "            negative_index = np.where(data[10:] < 0)[0][0] + 10\n",
    "            sigma_sio2_c.append(np.trapz(data[:negative_index + 1],x[:negative_index + 1]))\n",
    "    if system[j]=='SiO2':\n",
    "        theory_toughness[j].append(theory_sio2_g)\n",
    "        sigma_toughness[j].append(sigma_sio2_g)\n",
    "    elif system[j]=='SiO2_C':\n",
    "        theory_toughness[j].append(theory_sio2_c)\n",
    "        sigma_toughness[j].append(sigma_sio2_c)"
   ]
  },
  {
   "cell_type": "markdown",
   "metadata": {},
   "source": [
    "### Store data to pickle file"
   ]
  },
  {
   "cell_type": "code",
   "execution_count": null,
   "metadata": {},
   "outputs": [],
   "source": [
    "import pickle5 as pickle\n",
    "\n",
    "with open('sigma_toughness.pkl','wb') as f:\n",
    "    pickle.dump(sigma_toughness,f)\n",
    "with open('theory_toughness.pkl','wb') as f:\n",
    "    pickle.dump(theory_toughness,f)"
   ]
  }
 ],
 "metadata": {
  "kernelspec": {
   "display_name": "base",
   "language": "python",
   "name": "python3"
  },
  "language_info": {
   "codemirror_mode": {
    "name": "ipython",
    "version": 3
   },
   "file_extension": ".py",
   "mimetype": "text/x-python",
   "name": "python",
   "nbconvert_exporter": "python",
   "pygments_lexer": "ipython3",
   "version": "3.11.8"
  }
 },
 "nbformat": 4,
 "nbformat_minor": 2
}
